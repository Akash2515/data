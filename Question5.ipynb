{
 "cells": [
  {
   "cell_type": "code",
   "execution_count": 56,
   "id": "3a6978ac",
   "metadata": {},
   "outputs": [],
   "source": [
    "import subprocess\n",
    "from pyspark.sql.types import IntegerType,FloatType\n",
    "from functools import reduce\n",
    "from pyspark.sql import DataFrame,SparkSession\n",
    "from pyspark.sql.functions import sum\n",
    "from pyspark.sql.functions import col\n",
    "\n"
   ]
  },
  {
   "cell_type": "code",
   "execution_count": 57,
   "id": "0e9124f6",
   "metadata": {},
   "outputs": [],
   "source": [
    "def hdfs_file_read(file):\n",
    "    rdd = spark.read.csv(file,header=True,inferSchema = True)\n",
    "    # rdd=rdd.drop(\"axlespacings\", \"axleweights\", \"numberofaxles\",\"validitycode\",\"duration\",\"temperature\",\"weight\",\"hour\",\"minute\",\"second\",\"millisecond\")\n",
    "    return rdd"
   ]
  },
  {
   "cell_type": "code",
   "execution_count": 58,
   "id": "8fd4eead",
   "metadata": {},
   "outputs": [],
   "source": [
    "def get_Dataframe(x):\n",
    "    p=subprocess.Popen(x,\n",
    "    shell=True,\n",
    "    stdout=subprocess.PIPE,\n",
    "    stderr=subprocess.STDOUT)\n",
    "    result=list()\n",
    "    for line in p.stdout.readlines():\n",
    "        file = line.decode().strip()\n",
    "\n",
    "        df= hdfs_file_read(file)\n",
    "\n",
    "\n",
    "        df=df.filter((df.classname  == \"HGV_RIG\") | (df.classname  == \"HGV_ART\")).groupBy('cosit').count()\n",
    "        df=df.sort('count',ascending=False)\n",
    "\n",
    "        result.append(df)\n",
    "\n",
    "    union_df = reduce(DataFrame.unionAll, result)\n",
    "    union_df=union_df.groupBy('cosit').sum('count').sort('sum(count)',ascending=False).limit(10)\n",
    "#     print(result)\n",
    "    return union_df"
   ]
  },
  {
   "cell_type": "code",
   "execution_count": 59,
   "id": "7f875998",
   "metadata": {},
   "outputs": [
    {
     "name": "stdout",
     "output_type": "stream",
     "text": [
      "+------+----------+\n",
      "| cosit|sum(count)|\n",
      "+------+----------+\n",
      "|  1502|     87976|\n",
      "|  1508|     85061|\n",
      "|  1501|     81404|\n",
      "|  1503|     79830|\n",
      "|  1500|     76481|\n",
      "|200723|     69288|\n",
      "|  1073|     61825|\n",
      "|  1012|     59196|\n",
      "|  1071|     59036|\n",
      "|  1072|     58999|\n",
      "+------+----------+\n",
      "\n",
      "+------+----------+\n",
      "| cosit|sum(count)|\n",
      "+------+----------+\n",
      "|   997|    118792|\n",
      "|  1508|     58018|\n",
      "|  1502|     55658|\n",
      "|  1501|     52465|\n",
      "|  1503|     50153|\n",
      "|  1070|     40021|\n",
      "|200723|     39655|\n",
      "|  1012|     39046|\n",
      "|  1500|     38597|\n",
      "|  1071|     36490|\n",
      "+------+----------+\n",
      "\n"
     ]
    }
   ],
   "source": [
    "w1=\"hdfs dfs -ls hdfs://localhost:9000/user/akash/trafficCount/processedVehicleData| awk '{print $8}' | awk 'NR!=1' \"\n",
    "w2=\"hdfs dfs -ls hdfs://localhost:9000/user/akash/trafficCount/lockdownProcessedVehicleData| awk '{print $8}' | awk 'NR!=1' \"\n",
    "L=[w1,w2]\n",
    "for i in range(0,2):\n",
    "        j=str(i)\n",
    "        globals()[f\"week{j}\"] =  get_Dataframe(L[i])\n",
    "        \n",
    "week0.show()\n",
    "week1.show()"
   ]
  }
 ],
 "metadata": {
  "kernelspec": {
   "display_name": "Python 3",
   "language": "python",
   "name": "python3"
  },
  "language_info": {
   "codemirror_mode": {
    "name": "ipython",
    "version": 3
   },
   "file_extension": ".py",
   "mimetype": "text/x-python",
   "name": "python",
   "nbconvert_exporter": "python",
   "pygments_lexer": "ipython3",
   "version": "3.6.9"
  }
 },
 "nbformat": 4,
 "nbformat_minor": 5
}
