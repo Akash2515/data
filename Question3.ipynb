{
 "cells": [
  {
   "cell_type": "code",
   "execution_count": 1,
   "id": "f7fccf88",
   "metadata": {},
   "outputs": [],
   "source": [
    "import subprocess\n",
    "from pyspark.sql.types import IntegerType\n",
    "from functools import reduce\n",
    "from pyspark.sql import DataFrame\n",
    "\n",
    "#Intializing SparkSession and configuration for spark.config can also set here \n",
    "conf = SparkConf().setMaster(\"local\").setAppName(\"test\")\n",
    "spark = SparkSession.builder.config(conf=conf).getOrCreate()\n"
   ]
  },
  {
   "cell_type": "code",
   "execution_count": 2,
   "id": "3355cdf7",
   "metadata": {},
   "outputs": [],
   "source": [
    "# Function that is created to to read the hdfs file using SparkSession\n",
    "def hdfs_file_read(file):\n",
    "    rdd = spark.read.csv(file,header=True,inferSchema = True)\n",
    "    return rdd"
   ]
  },
  {
   "cell_type": "code",
   "execution_count": 3,
   "id": "b30bd17a",
   "metadata": {},
   "outputs": [],
   "source": [
    "#Function performs dataset computation and return dataframe for normalWeek and lockdownWeek  \n",
    "def get_Dataframe(x):\n",
    "    w1=subprocess.Popen(x,\n",
    "    shell=True,\n",
    "    stdout=subprocess.PIPE,\n",
    "    stderr=subprocess.STDOUT)\n",
    "    res = list()\n",
    "    for line in w1.stdout.readlines():\n",
    "        file = line.decode().strip()\n",
    "        vehicle_data1= hdfs_file_read(file)\n",
    "        week1_VehicleCount=vehicle_data1.groupBy(vehicle_data1.cosit).sum('VehicleCount').sort('sum(VehicleCount)',ascending=False)\n",
    "        week1_VehicleCount=week1_VehicleCount.withColumnRenamed(\"sum(VehicleCount)\", \"w1TotalCount\")\n",
    "        res.append(week1_VehicleCount)\n",
    "    union1 = reduce(DataFrame.unionAll, res)\n",
    "    union1=union1.groupBy(union1.cosit).sum('w1TotalCount').sort('sum(w1TotalCount)',ascending=False)\n",
    "    union1=union1.withColumnRenamed(\"sum(w1TotalCount)\", \"TotalCount\")\n",
    "    return union1\n"
   ]
  },
  {
   "cell_type": "code",
   "execution_count": 4,
   "id": "83a26d9e",
   "metadata": {},
   "outputs": [
    {
     "name": "stdout",
     "output_type": "stream",
     "text": [
      "+-----+----------+\n",
      "|cosit|Difference|\n",
      "+-----+----------+\n",
      "| 1502|    789723|\n",
      "| 1508|    786520|\n",
      "| 1503|    784145|\n",
      "| 1014|    759632|\n",
      "| 1501|    749373|\n",
      "| 1509|    729802|\n",
      "| 1500|    707956|\n",
      "| 1504|    669135|\n",
      "| 1505|    625228|\n",
      "| 1506|    605283|\n",
      "+-----+----------+\n",
      "\n"
     ]
    }
   ],
   "source": [
    "w1=\"hdfs dfs -ls hdfs://localhost:9000/user/akash/trafficCount/aggre| awk '{print $8}' | awk 'NR!=1' \"\n",
    "w2=\"hdfs dfs -ls hdfs://localhost:9000/user/akash/trafficCount/lockdownweek| awk '{print $8}' | awk 'NR!=1' \"\n",
    "L=[w1,w2]\n",
    "for i in range(0,2):\n",
    "        j=str(i)\n",
    "        globals()[f\"week{j}\"] =  get_Dataframe(L[i])\n",
    "        \n",
    "# Dataframe of Normal Week\n",
    "week0.createOrReplaceTempView(\"week1\")\n",
    "# Dataframe of Lockdown Week\n",
    "week1.createOrReplaceTempView(\"week2\")\n",
    "\n",
    "#Difference = NORMALWEEK-LOCKDOWNWEEK\n",
    "finalReductionCount=spark.sql(\"SELECT w1.cosit,(w1.TotalCount - w2.TotalCount) Difference FROM week1 w1 INNER JOIN week2 w2 ON w1.cosit = w2.cosit ORDER BY Difference DESC LIMIT 10\")\n",
    "\n",
    "#top 10 sites which has Significant amount of traffic Reduction\n",
    "finalReductionCount.show()\n",
    "\n"
   ]
  },
  {
   "cell_type": "code",
   "execution_count": null,
   "id": "0074108a",
   "metadata": {},
   "outputs": [],
   "source": []
  },
  {
   "cell_type": "code",
   "execution_count": null,
   "id": "d2a9cdc6",
   "metadata": {},
   "outputs": [],
   "source": []
  },
  {
   "cell_type": "code",
   "execution_count": null,
   "id": "6669b22c",
   "metadata": {},
   "outputs": [],
   "source": []
  }
 ],
 "metadata": {
  "kernelspec": {
   "display_name": "Python 3",
   "language": "python",
   "name": "python3"
  },
  "language_info": {
   "codemirror_mode": {
    "name": "ipython",
    "version": 3
   },
   "file_extension": ".py",
   "mimetype": "text/x-python",
   "name": "python",
   "nbconvert_exporter": "python",
   "pygments_lexer": "ipython3",
   "version": "3.6.9"
  }
 },
 "nbformat": 4,
 "nbformat_minor": 5
}
