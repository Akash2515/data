{
 "cells": [
  {
   "cell_type": "code",
   "execution_count": 1,
   "id": "8ce5526b",
   "metadata": {},
   "outputs": [],
   "source": [
    "import subprocess\n",
    "from pyspark.sql.types import IntegerType\n",
    "from functools import reduce\n",
    "from pyspark.sql import DataFrame\n",
    "from pyspark.sql.functions import sum\n",
    "from pyspark import SparkConf\n",
    "from pyspark.sql import DataFrame,SparkSession\n",
    "\n",
    "\n",
    "#Intializing SparkSession and configuration for spark.config can also set here \n",
    "conf = SparkConf().setMaster(\"local\").setAppName(\"test\")\n",
    "spark = SparkSession.builder.config(conf=conf).getOrCreate()\n",
    "\n",
    "\n"
   ]
  },
  {
   "cell_type": "code",
   "execution_count": 2,
   "id": "31d10f41",
   "metadata": {},
   "outputs": [],
   "source": [
    "\n",
    "# Function that is created to to read the hdfs file using SparkSession\n",
    "def hdfs_file_read(file):\n",
    "    rdd = spark.read.csv(file,header=True,inferSchema = True) \n",
    "    return rdd\n",
    "\n",
    "#Function performs dataset computation and return dataframe for normalWeek and lockdownWeek  \n",
    "def get_Dataframe(x):\n",
    "    res = list()\n",
    "    #This lines read the all names the file in hdfs folder and make it a single name with space seperated\n",
    "    p=subprocess.Popen(x,\n",
    "    shell=True,\n",
    "    stdout=subprocess.PIPE,\n",
    "    stderr=subprocess.STDOUT)\n",
    "    \n",
    "    #then the line send to this for loop to run line by line files this has 7 data for normal week and 7 data for lockdownweek\n",
    "        #hdfs://localhost:9000/user/akash/trafficCount/aggre/data1.csv\n",
    "        #hdfs://localhost:9000/user/akash/trafficCount/aggre/data2.csv\n",
    "        #hdfs://localhost:9000/user/akash/trafficCount/aggre/Ldata1.csv\n",
    "        #hdfs://localhost:9000/user/akash/trafficCount/aggre/Ldata1.csv\n",
    "    for line in p.stdout.readlines():\n",
    "        file = line.decode().strip()   \n",
    "        vehicle_data= hdfs_file_read(file)\n",
    "        \n",
    "        output=vehicle_data.groupBy(vehicle_data.cosit,vehicle_data.day,vehicle_data.month,vehicle_data.year).sum('VehicleCount').sort('sum(VehicleCount)',ascending=False)\n",
    "        output=output.withColumnRenamed(\"sum(VehicleCount)\", \"VehicleCount\")\n",
    "    #    output.show()\n",
    "        output.createOrReplaceTempView('packages') \n",
    "        query_results = spark.sql('SELECT * FROM packages LIMIT 1') #This collects the first data \n",
    "\n",
    "    #append the results\n",
    "        res.append(query_results)\n",
    "\n",
    "    union_df = reduce(DataFrame.unionAll, res)\n",
    "    return union_df\n"
   ]
  },
  {
   "cell_type": "code",
   "execution_count": 3,
   "id": "5dc88a1c",
   "metadata": {},
   "outputs": [
    {
     "name": "stdout",
     "output_type": "stream",
     "text": [
      "+-----+---+-----+----+------------+\n",
      "|cosit|day|month|year|VehicleCount|\n",
      "+-----+---+-----+----+------------+\n",
      "| 1502|  8|    4|2019|      156834|\n",
      "| 1503|  9|    4|2019|      162944|\n",
      "| 1503| 10|    4|2019|      166698|\n",
      "| 1502| 11|    4|2019|      168417|\n",
      "| 1502| 12|    4|2019|      171435|\n",
      "| 1502| 13|    4|2019|      138231|\n",
      "| 1502| 14|    4|2019|      120943|\n",
      "+-----+---+-----+----+------------+\n",
      "\n",
      "+-----+---+-----+----+------------+\n",
      "|cosit|day|month|year|VehicleCount|\n",
      "+-----+---+-----+----+------------+\n",
      "| 1502|  6|    4|2020|       52110|\n",
      "| 1502|  7|    4|2020|       53393|\n",
      "| 1502|  8|    4|2020|       53123|\n",
      "| 1502|  9|    4|2020|       52373|\n",
      "| 1502| 10|    4|2020|       43681|\n",
      "| 1502| 11|    4|2020|       24251|\n",
      "| 1502| 12|    4|2020|       15321|\n",
      "+-----+---+-----+----+------------+\n",
      "\n"
     ]
    }
   ],
   "source": [
    "w1=\"hdfs dfs -ls hdfs://localhost:9000/user/akash/trafficCount/aggre| awk '{print $8}' | awk 'NR!=1' \"\n",
    "w2=\"hdfs dfs -ls hdfs://localhost:9000/user/akash/trafficCount/lockdownweek| awk '{print $8}' | awk 'NR!=1' \"\n",
    "L=[w1,w2]\n",
    "for i in range(0,2):\n",
    "        j=str(i)\n",
    "        globals()[f\"week{j}\"] =  get_Dataframe(L[i])\n",
    "        \n",
    "week0.show()#NormalWeek\n",
    "week1.show()#LockdownWeek"
   ]
  },
  {
   "cell_type": "code",
   "execution_count": null,
   "id": "f511fbd2",
   "metadata": {},
   "outputs": [],
   "source": []
  }
 ],
 "metadata": {
  "kernelspec": {
   "display_name": "Python 3",
   "language": "python",
   "name": "python3"
  },
  "language_info": {
   "codemirror_mode": {
    "name": "ipython",
    "version": 3
   },
   "file_extension": ".py",
   "mimetype": "text/x-python",
   "name": "python",
   "nbconvert_exporter": "python",
   "pygments_lexer": "ipython3",
   "version": "3.6.9"
  }
 },
 "nbformat": 4,
 "nbformat_minor": 5
}
