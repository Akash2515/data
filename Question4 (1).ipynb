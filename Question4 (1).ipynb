{
 "cells": [
  {
   "cell_type": "code",
   "execution_count": 2,
   "id": "b351ac0d",
   "metadata": {},
   "outputs": [],
   "source": [
    "import subprocess\n",
    "from pyspark.sql.types import IntegerType,FloatType\n",
    "from functools import reduce\n",
    "from pyspark.sql import DataFrame,SparkSession\n",
    "from pyspark import SparkConf\n",
    "from pyspark.sql.functions import sum\n",
    "\n",
    "#Intializing SparkSession and configuration for spark.config can also set here \n",
    "conf = SparkConf().setMaster(\"local\").setAppName(\"test\")\n",
    "spark = SparkSession.builder.config(conf=conf).getOrCreate()"
   ]
  },
  {
   "cell_type": "code",
   "execution_count": 3,
   "id": "ce204ab4",
   "metadata": {},
   "outputs": [],
   "source": [
    "# Function that is created to to read the hdfs file using SparkSession\n",
    "def hdfs_file_read(file):\n",
    "    rdd = spark.read.csv(file,header=True,inferSchema = True)\n",
    "    return rdd"
   ]
  },
  {
   "cell_type": "code",
   "execution_count": 4,
   "id": "d8e5d90e",
   "metadata": {},
   "outputs": [],
   "source": [
    "#Function performs dataset computation and return dataframe for normalWeek and lockdownWeek  \n",
    "def get_Dataframe(x):\n",
    "    p=subprocess.Popen(x,\n",
    "    shell=True,\n",
    "    stdout=subprocess.PIPE,\n",
    "    stderr=subprocess.STDOUT)\n",
    "    result=list()\n",
    "    for line in p.stdout.readlines():\n",
    "        file = line.decode().strip()\n",
    "        df= hdfs_file_read(file)\n",
    "        check_columns=df.select('class','classname').distinct().sort('class',ascending=True)\n",
    "        #remove the null rows\n",
    "        speed_df=df.na.drop(subset=['classname'])\n",
    "        speed_df=speed_df.groupBy('class','classname').avg('speed').sort('class',ascending=True)\n",
    "        speed_df=speed_df.withColumnRenamed(\"avg(speed)\", \"speed\")\n",
    "        result.append(speed_df)\n",
    "    union_df = reduce(DataFrame.unionAll, result)\n",
    "    union_df=union_df.groupBy('class','classname').avg('speed').sort('class',ascending=True)\n",
    "    return union_df\n"
   ]
  },
  {
   "cell_type": "code",
   "execution_count": 5,
   "id": "f363354c",
   "metadata": {},
   "outputs": [
    {
     "name": "stdout",
     "output_type": "stream",
     "text": [
      "+-----+---------+-----------------+\n",
      "|class|classname|       avg(speed)|\n",
      "+-----+---------+-----------------+\n",
      "|    1|    MBIKE|85.87613160754174|\n",
      "|    2|      CAR|92.29858413955627|\n",
      "|    3|      LGV|94.26504522677455|\n",
      "|    4|      BUS| 82.5409191870242|\n",
      "|    5|  HGV_RIG|83.52102209826153|\n",
      "|    6|  HGV_ART| 83.3820659626253|\n",
      "|    7|  CARAVAN|83.13369684791348|\n",
      "+-----+---------+-----------------+\n",
      "\n",
      "+-----+---------+-----------------+\n",
      "|class|classname|       avg(speed)|\n",
      "+-----+---------+-----------------+\n",
      "|    1|    MBIKE|90.48422177424541|\n",
      "|    2|      CAR|96.77241797580066|\n",
      "|    3|      LGV|95.94105077092436|\n",
      "|    4|      BUS|77.88388951757305|\n",
      "|    5|  HGV_RIG|82.46460160691093|\n",
      "|    6|  HGV_ART| 85.2350506215375|\n",
      "|    7|  CARAVAN| 84.2174328794653|\n",
      "+-----+---------+-----------------+\n",
      "\n"
     ]
    }
   ],
   "source": [
    "w1=\"hdfs dfs -ls hdfs://localhost:9000/user/akash/trafficCount/processedVehicleData| awk '{print $8}' | awk 'NR!=1' \"\n",
    "w2=\"hdfs dfs -ls hdfs://localhost:9000/user/akash/trafficCount/lockdownProcessedVehicleData| awk '{print $8}' | awk 'NR!=1' \"\n",
    "L=[w1,w2]\n",
    "for i in range(0,2):\n",
    "        j=str(i)\n",
    "        globals()[f\"week{j}\"] =  get_Dataframe(L[i])\n",
    "#average daily speed for both weeks calculated\n",
    "week0.show()#Normal week\n",
    "week1.show()#Lockdown week\n"
   ]
  },
  {
   "cell_type": "code",
   "execution_count": null,
   "id": "dafc38fa",
   "metadata": {},
   "outputs": [],
   "source": []
  }
 ],
 "metadata": {
  "kernelspec": {
   "display_name": "Python 3",
   "language": "python",
   "name": "python3"
  },
  "language_info": {
   "codemirror_mode": {
    "name": "ipython",
    "version": 3
   },
   "file_extension": ".py",
   "mimetype": "text/x-python",
   "name": "python",
   "nbconvert_exporter": "python",
   "pygments_lexer": "ipython3",
   "version": "3.6.9"
  }
 },
 "nbformat": 4,
 "nbformat_minor": 5
}
