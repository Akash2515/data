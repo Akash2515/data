{
 "cells": [
  {
   "cell_type": "code",
   "execution_count": 5,
   "id": "b351ac0d",
   "metadata": {},
   "outputs": [],
   "source": [
    "import subprocess\n",
    "from pyspark.sql.types import IntegerType,FloatType\n",
    "from functools import reduce\n",
    "from pyspark.sql import DataFrame,SparkSession\n",
    "from pyspark.sql.functions import sum\n",
    "spark=SparkSession.builder.appName('check').config(\"spark.some.config.option\",\"some-value\").master('hdfs').getOrCreate()"
   ]
  },
  {
   "cell_type": "code",
   "execution_count": 6,
   "id": "ce204ab4",
   "metadata": {},
   "outputs": [],
   "source": [
    "def hdfs_file_read(file):\n",
    "    rdd = spark.read.csv(file,header=True,inferSchema = True)\n",
    "    # rdd=rdd.drop(\"axlespacings\", \"axleweights\", \"numberofaxles\",\"validitycode\",\"duration\",\"temperature\",\"weight\",\"hour\",\"minute\",\"second\",\"millisecond\")\n",
    "    return rdd"
   ]
  },
  {
   "cell_type": "code",
   "execution_count": 7,
   "id": "d8e5d90e",
   "metadata": {},
   "outputs": [],
   "source": [
    "def get_Dataframe(x):\n",
    "    p=subprocess.Popen(x,\n",
    "    shell=True,\n",
    "    stdout=subprocess.PIPE,\n",
    "    stderr=subprocess.STDOUT)\n",
    "    result=list()\n",
    "    for line in p.stdout.readlines():\n",
    "        file = line.decode().strip()\n",
    "\n",
    "        df= hdfs_file_read(file)\n",
    "        df= df.withColumn(\"speed\", df[\"speed\"].cast(FloatType()))\n",
    "\n",
    "        check_columns=df.select('class','classname').distinct().sort('class',ascending=True)\n",
    "    #     check_columns.show()\n",
    "        #remove the null rows\n",
    "        speed_df=df.na.drop(subset=['classname'])\n",
    "    #     speed_df.select('class','classname').distinct().sort('class',ascending=True).show()\n",
    "\n",
    "        speed_df=speed_df.groupBy('class','classname').avg('speed').sort('class',ascending=True)\n",
    "        speed_df=speed_df.withColumnRenamed(\"avg(speed)\", \"speed\")\n",
    "    #     speed_df.show()\n",
    "        result.append(speed_df)\n",
    "\n",
    "    union_df = reduce(DataFrame.unionAll, result)\n",
    "    union_df=union_df.groupBy('class','classname').avg('speed').sort('class',ascending=True)\n",
    "    union_df.show()\n",
    "    return union_df\n"
   ]
  },
  {
   "cell_type": "code",
   "execution_count": 8,
   "id": "f363354c",
   "metadata": {},
   "outputs": [
    {
     "name": "stdout",
     "output_type": "stream",
     "text": [
      "+-----+---------+-----------------+\n",
      "|class|classname|       avg(speed)|\n",
      "+-----+---------+-----------------+\n",
      "|    1|    MBIKE|85.87613161095074|\n",
      "|    2|      CAR|92.29858413944116|\n",
      "|    3|      LGV|94.26504522661584|\n",
      "|    4|      BUS|82.54091919314335|\n",
      "|    5|  HGV_RIG|83.52102209610372|\n",
      "|    6|  HGV_ART|83.38206595764122|\n",
      "|    7|  CARAVAN|83.13369684835732|\n",
      "+-----+---------+-----------------+\n",
      "\n",
      "+-----+---------+-----------------+\n",
      "|class|classname|       avg(speed)|\n",
      "+-----+---------+-----------------+\n",
      "|    1|    MBIKE|90.48422177807804|\n",
      "|    2|      CAR|96.77241797549061|\n",
      "|    3|      LGV|95.94105077135649|\n",
      "|    4|      BUS|77.88388952490064|\n",
      "|    5|  HGV_RIG|82.46460160583159|\n",
      "|    6|  HGV_ART|85.23505061315497|\n",
      "|    7|  CARAVAN|84.21743287793122|\n",
      "+-----+---------+-----------------+\n",
      "\n",
      "+-----+---------+-----------------+\n",
      "|class|classname|       avg(speed)|\n",
      "+-----+---------+-----------------+\n",
      "|    1|    MBIKE|85.87613161095074|\n",
      "|    2|      CAR|92.29858413944116|\n",
      "|    3|      LGV|94.26504522661584|\n",
      "|    4|      BUS|82.54091919314335|\n",
      "|    5|  HGV_RIG|83.52102209610372|\n",
      "|    6|  HGV_ART|83.38206595764122|\n",
      "|    7|  CARAVAN|83.13369684835732|\n",
      "+-----+---------+-----------------+\n",
      "\n",
      "+-----+---------+-----------------+\n",
      "|class|classname|       avg(speed)|\n",
      "+-----+---------+-----------------+\n",
      "|    1|    MBIKE|90.48422177807804|\n",
      "|    2|      CAR|96.77241797549061|\n",
      "|    3|      LGV|95.94105077135649|\n",
      "|    4|      BUS|77.88388952490064|\n",
      "|    5|  HGV_RIG|82.46460160583159|\n",
      "|    6|  HGV_ART|85.23505061315497|\n",
      "|    7|  CARAVAN|84.21743287793122|\n",
      "+-----+---------+-----------------+\n",
      "\n"
     ]
    }
   ],
   "source": [
    "w1=\"hdfs dfs -ls hdfs://localhost:9000/user/akash/trafficCount/processedVehicleData| awk '{print $8}' | awk 'NR!=1' \"\n",
    "w2=\"hdfs dfs -ls hdfs://localhost:9000/user/akash/trafficCount/lockdownProcessedVehicleData| awk '{print $8}' | awk 'NR!=1' \"\n",
    "L=[w1,w2]\n",
    "for i in range(0,2):\n",
    "        j=str(i)\n",
    "        globals()[f\"week{j}\"] =  get_Dataframe(L[i])\n",
    "        \n",
    "week0.show()\n",
    "week1.show()\n",
    "# week0.createOrReplaceTempView(\"normalWeek\")\n",
    "\n",
    "# week1.createOrReplaceTempView(\"lockdownWeek\")"
   ]
  },
  {
   "cell_type": "code",
   "execution_count": null,
   "id": "dafc38fa",
   "metadata": {},
   "outputs": [],
   "source": []
  }
 ],
 "metadata": {
  "kernelspec": {
   "display_name": "Python 3",
   "language": "python",
   "name": "python3"
  },
  "language_info": {
   "codemirror_mode": {
    "name": "ipython",
    "version": 3
   },
   "file_extension": ".py",
   "mimetype": "text/x-python",
   "name": "python",
   "nbconvert_exporter": "python",
   "pygments_lexer": "ipython3",
   "version": "3.6.9"
  }
 },
 "nbformat": 4,
 "nbformat_minor": 5
}
